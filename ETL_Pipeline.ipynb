{
  "nbformat": 4,
  "nbformat_minor": 0,
  "metadata": {
    "colab": {
      "provenance": [],
      "authorship_tag": "ABX9TyOrtHZRhF2sMJgv37sx1KNq",
      "include_colab_link": true
    },
    "kernelspec": {
      "name": "python3",
      "display_name": "Python 3"
    },
    "language_info": {
      "name": "python"
    }
  },
  "cells": [
    {
      "cell_type": "markdown",
      "metadata": {
        "id": "view-in-github",
        "colab_type": "text"
      },
      "source": [
        "<a href=\"https://colab.research.google.com/github/malaika-n/ETL-Pipeline/blob/main/ETL_Pipeline.ipynb\" target=\"_parent\"><img src=\"https://colab.research.google.com/assets/colab-badge.svg\" alt=\"Open In Colab\"/></a>"
      ]
    },
    {
      "cell_type": "markdown",
      "source": [
        "## **ETL Pipeline using Web Data**"
      ],
      "metadata": {
        "id": "ReIrJiYb8nlq"
      }
    },
    {
      "cell_type": "markdown",
      "source": [
        "* A Web Data ETL (Extract, Transform, Load) pipeline is a systematic process to collect, transform, and load data from various sources on the internet into a structured and usable format for analysis and storage.\n",
        "* It is essential for managing and processing large volumes of data gathered from websites, online platforms, and digital sources."
      ],
      "metadata": {
        "id": "fxuz1g4sjkt6"
      }
    },
    {
      "cell_type": "code",
      "source": [
        "# importing the necessary Python libraries:\n",
        "# use command for installing beautifulsoup and nltk: pip install beautifulsoup4 nltk\n",
        "\n",
        "import requests\n",
        "from bs4 import BeautifulSoup\n",
        "from nltk.corpus import stopwords\n",
        "from collections import Counter\n",
        "import pandas as pd\n",
        "import nltk\n",
        "nltk.download('stopwords')"
      ],
      "metadata": {
        "colab": {
          "base_uri": "https://localhost:8080/"
        },
        "id": "igjkZb_H8-eu",
        "outputId": "21a16d7f-fa3e-42ea-e2a9-80eda3de9ae1"
      },
      "execution_count": null,
      "outputs": [
        {
          "output_type": "stream",
          "name": "stderr",
          "text": [
            "[nltk_data] Downloading package stopwords to /root/nltk_data...\n",
            "[nltk_data]   Unzipping corpora/stopwords.zip.\n"
          ]
        },
        {
          "output_type": "execute_result",
          "data": {
            "text/plain": [
              "True"
            ]
          },
          "metadata": {},
          "execution_count": 2
        }
      ]
    },
    {
      "cell_type": "markdown",
      "source": [
        "**Extracting text from any article on the web:**"
      ],
      "metadata": {
        "id": "oKTLHBLPnwMw"
      }
    },
    {
      "cell_type": "code",
      "execution_count": null,
      "metadata": {
        "id": "xuSD2JAK8mu7"
      },
      "outputs": [],
      "source": [
        "# WebScraper class extracts the main text content of an article from a given web page URL:\n",
        "class WebScraper:\n",
        "    def __init__(self, url):\n",
        "        self.url = url\n",
        "\n",
        "# creating an instance of the WebScraper class which will retrieve textual data of the article:\n",
        "    def extract_article_text(self):\n",
        "        response = requests.get(self.url)\n",
        "        html_content = response.content\n",
        "        soup = BeautifulSoup(html_content, \"html.parser\")\n",
        "        article_text = soup.get_text()\n",
        "        return article_text\n",
        "\n",
        "# the textual data can then be further processed or analyzed."
      ]
    },
    {
      "cell_type": "markdown",
      "source": [
        "**To store the frequency of each word in the article, the data needs to be preprocessed:**"
      ],
      "metadata": {
        "id": "r-zHgWC92bDQ"
      }
    },
    {
      "cell_type": "code",
      "source": [
        "# TextProcessor class processes text data by tokenizing it into words and cleaning those words by removing non-alphabetic words and stopwords.\n",
        "class TextProcessor:\n",
        "    def __init__(self, nltk_stopwords):\n",
        "        self.nltk_stopwords = nltk_stopwords\n",
        "\n",
        "# tokenize_and_clean method is an instance of the TextProcessor class\n",
        "# it will obtain a list of cleaned and filtered words from a given input text:\n",
        "    def tokenize_and_clean(self, text):\n",
        "        words = text.split()\n",
        "        filtered_words = [word.lower() for word in words if word.isalpha() and word.lower() not in self.nltk_stopwords]\n",
        "        return filtered_words"
      ],
      "metadata": {
        "id": "86I_cxwjCDOS"
      },
      "execution_count": null,
      "outputs": []
    },
    {
      "cell_type": "markdown",
      "source": [
        "**Defining a class for the entire ETL process for extracting article text, processing it, and generating a DataFrame of word frequencies:**"
      ],
      "metadata": {
        "id": "Y2d3Zk3Y3BrB"
      }
    },
    {
      "cell_type": "code",
      "source": [
        "# ETLPipeline class encapsulates the end-to-end process of extracting article text from a web page, cleaning and processing the text, calculating word frequencies, and generating a sorted DataFrame.\n",
        "\n",
        "class ETLPipeline:\n",
        "    def __init__(self, url):\n",
        "        self.url = url\n",
        "        self.nltk_stopwords = set(stopwords.words(\"english\"))\n",
        "\n",
        "# The run method will perform the complete ETL process and obtain a DataFrame that provides insights into the most frequently used words in the article after removing stopwords.\n",
        "\n",
        "    def run(self):\n",
        "        scraper = WebScraper(self.url)\n",
        "        article_text = scraper.extract_article_text()\n",
        "\n",
        "        processor = TextProcessor(self.nltk_stopwords)\n",
        "        filtered_words = processor.tokenize_and_clean(article_text)\n",
        "\n",
        "        word_freq = Counter(filtered_words)\n",
        "        df = pd.DataFrame(word_freq.items(), columns=[\"Words\", \"Frequencies\"])\n",
        "        df = df.sort_values(by=\"Frequencies\", ascending=False)\n",
        "        return df"
      ],
      "metadata": {
        "id": "oXvsreeoCD05"
      },
      "execution_count": null,
      "outputs": []
    },
    {
      "cell_type": "code",
      "source": [
        "if __name__ == \"__main__\":\n",
        "    article_url = \"https://medium.com/carre4/women-and-ai-a8389ec6334c\"\n",
        "    pipeline = ETLPipeline(article_url)\n",
        "    result_df = pipeline.run()\n",
        "    print(result_df.head())"
      ],
      "metadata": {
        "colab": {
          "base_uri": "https://localhost:8080/"
        },
        "id": "kNcvbx_2CIJE",
        "outputId": "9b22447e-5642-430a-cd33-7fd2e5e559e4"
      },
      "execution_count": null,
      "outputs": [
        {
          "output_type": "stream",
          "name": "stdout",
          "text": [
            "         Words  Frequencies\n",
            "7           ai           17\n",
            "9          min           11\n",
            "24       world            6\n",
            "13  artificial            6\n",
            "3     inspirit            5\n"
          ]
        }
      ]
    }
  ]
}